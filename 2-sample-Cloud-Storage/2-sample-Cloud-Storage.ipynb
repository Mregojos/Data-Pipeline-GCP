{
 "cells": [
  {
   "cell_type": "markdown",
   "id": "bf43b342-2df4-4d0e-85d6-96508ad068c0",
   "metadata": {},
   "source": [
    "# 2 Sample Cloud Storage\n",
    "\n",
    "Reference: cloud.google.com/storage/docs"
   ]
  },
  {
   "cell_type": "code",
   "execution_count": null,
   "id": "2d8ccdf4-88d3-4797-8098-881d08dd19bf",
   "metadata": {},
   "outputs": [],
   "source": []
  }
 ],
 "metadata": {
  "environment": {
   "kernel": "python3",
   "name": "tf2-cpu.2-11.m112",
   "type": "gcloud",
   "uri": "gcr.io/deeplearning-platform-release/tf2-cpu.2-11:m112"
  },
  "kernelspec": {
   "display_name": "Python 3",
   "language": "python",
   "name": "python3"
  },
  "language_info": {
   "codemirror_mode": {
    "name": "ipython",
    "version": 3
   },
   "file_extension": ".py",
   "mimetype": "text/x-python",
   "name": "python",
   "nbconvert_exporter": "python",
   "pygments_lexer": "ipython3",
   "version": "3.10.12"
  }
 },
 "nbformat": 4,
 "nbformat_minor": 5
}
