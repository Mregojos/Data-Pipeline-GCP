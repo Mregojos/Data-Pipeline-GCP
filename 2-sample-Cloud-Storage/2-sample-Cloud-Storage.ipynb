{
 "cells": [
  {
   "cell_type": "markdown",
   "id": "bf43b342-2df4-4d0e-85d6-96508ad068c0",
   "metadata": {},
   "source": [
    "# 2 Sample Cloud Storage\n",
    "\n",
    "Reference: cloud.google.com/storage/docs"
   ]
  },
  {
   "cell_type": "markdown",
   "id": "7fd6a33c-631f-46c8-8efd-e8d92ae448ba",
   "metadata": {},
   "source": [
    "## Getting Started"
   ]
  },
  {
   "cell_type": "markdown",
   "id": "0ae03d5f-7f9f-4163-8338-dca388a17b52",
   "metadata": {},
   "source": [
    "## Cloud Storage CLI"
   ]
  },
  {
   "cell_type": "markdown",
   "id": "003546f2-8767-4983-904e-5407f84f3c37",
   "metadata": {},
   "source": [
    "## Local Storage (CSV) to Cloud Storage"
   ]
  },
  {
   "cell_type": "code",
   "execution_count": null,
   "id": "9212aa29-76f9-4ae0-9823-f57a3fb2d4fd",
   "metadata": {},
   "outputs": [],
   "source": []
  },
  {
   "cell_type": "code",
   "execution_count": null,
   "id": "2d8ccdf4-88d3-4797-8098-881d08dd19bf",
   "metadata": {},
   "outputs": [],
   "source": []
  }
 ],
 "metadata": {
  "environment": {
   "kernel": "python3",
   "name": "tf2-cpu.2-11.m112",
   "type": "gcloud",
   "uri": "gcr.io/deeplearning-platform-release/tf2-cpu.2-11:m112"
  },
  "kernelspec": {
   "display_name": "Python 3",
   "language": "python",
   "name": "python3"
  },
  "language_info": {
   "codemirror_mode": {
    "name": "ipython",
    "version": 3
   },
   "file_extension": ".py",
   "mimetype": "text/x-python",
   "name": "python",
   "nbconvert_exporter": "python",
   "pygments_lexer": "ipython3",
   "version": "3.10.12"
  }
 },
 "nbformat": 4,
 "nbformat_minor": 5
}
