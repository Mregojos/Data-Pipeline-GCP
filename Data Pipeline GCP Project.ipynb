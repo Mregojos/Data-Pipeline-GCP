{
 "cells": [
  {
   "cell_type": "markdown",
   "id": "0ad9438c-8596-4af2-b71d-79587af9cb47",
   "metadata": {},
   "source": [
    "# Data Pipeline on GCP (Project)"
   ]
  },
  {
   "cell_type": "code",
   "execution_count": null,
   "id": "ecd6f090-4211-46d3-aa35-84f5070a162e",
   "metadata": {},
   "outputs": [],
   "source": []
  }
 ],
 "metadata": {
  "environment": {
   "kernel": "python3",
   "name": "tf2-cpu.2-11.m112",
   "type": "gcloud",
   "uri": "gcr.io/deeplearning-platform-release/tf2-cpu.2-11:m112"
  },
  "kernelspec": {
   "display_name": "Python 3",
   "language": "python",
   "name": "python3"
  },
  "language_info": {
   "codemirror_mode": {
    "name": "ipython",
    "version": 3
   },
   "file_extension": ".py",
   "mimetype": "text/x-python",
   "name": "python",
   "nbconvert_exporter": "python",
   "pygments_lexer": "ipython3",
   "version": "3.10.12"
  }
 },
 "nbformat": 4,
 "nbformat_minor": 5
}
